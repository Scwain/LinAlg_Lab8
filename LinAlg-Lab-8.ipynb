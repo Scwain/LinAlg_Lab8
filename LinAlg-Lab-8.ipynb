{
 "cells": [
  {
   "cell_type": "markdown",
   "metadata": {},
   "source": [
    "# Linear Algebra for CpE\n",
    "## Laboratory 8 : System of Linear Equations"
   ]
  },
  {
   "cell_type": "code",
   "execution_count": 2,
   "metadata": {},
   "outputs": [],
   "source": [
    "import numpy as np\n",
    "import matplotlib.pyplot as plt\n",
    "%matplotlib inline"
   ]
  },
  {
   "cell_type": "markdown",
   "metadata": {},
   "source": [
    "Coded and submitted by:<br>\n",
    "Panelo, Bryan V.<br>\n",
    "58011\n"
   ]
  },
  {
   "cell_type": "markdown",
   "metadata": {},
   "source": [
    "### Exercise"
   ]
  },
  {
   "cell_type": "markdown",
   "metadata": {},
   "source": [
    "1. Try to find your own example of a system of linear equations (minimum of 2 equations) and solve them using the inverse equation. Explain the details of your example.\n",
    "2. Using your example in (1) solve it using `np.linalg.solve()`. Explain the function and its difference using the inverse equation."
   ]
  },
  {
   "cell_type": "markdown",
   "metadata": {},
   "source": [
    "<!-- <h1> Calculating the rate </h1>\n",
    "Example: A dam is built in 1928 and the storage capacity of the dam is 300,000 acre-feet. In 1993, the townfolks determined that the buildup of sediment had reduced the resevoir's capacity to 189,000 acre-feet. Assuming the rate of sediment deposition has been constant  over that time period, at what rate(in acre-feet per year) is the reservoir's storage capacity being reduced?\n",
    "\n",
    "##### use this formula\n",
    "\n",
    "$$  r =\\frac{d_2-d_1}{t_2-t_1}\n",
    "$$     -->"
   ]
  },
  {
   "cell_type": "markdown",
   "metadata": {},
   "source": [
    "So given an equation:\n",
    "$$\n",
    "Z = \\left\\{\n",
    "    \\begin{array}\\\\\n",
    "        2x+5y=20\\\\ \n",
    "        3x+6y=18\n",
    "    \\end{array}\n",
    "\\right. $$"
   ]
  },
  {
   "cell_type": "code",
   "execution_count": 3,
   "metadata": {},
   "outputs": [],
   "source": [
    "A = np.array([\n",
    "    [2,5],\n",
    "    [3,6]\n",
    "])\n",
    "B = np.array([\n",
    "    [20],\n",
    "    [18]\n",
    "])"
   ]
  },
  {
   "cell_type": "code",
   "execution_count": 4,
   "metadata": {},
   "outputs": [
    {
     "data": {
      "text/plain": [
       "array([[-2.        ,  1.66666667],\n",
       "       [ 1.        , -0.66666667]])"
      ]
     },
     "execution_count": 4,
     "metadata": {},
     "output_type": "execute_result"
    }
   ],
   "source": [
    "A_inv = np.linalg.inv(A)\n",
    "A_inv"
   ]
  },
  {
   "cell_type": "code",
   "execution_count": 5,
   "metadata": {},
   "outputs": [
    {
     "data": {
      "text/plain": [
       "array([[-10.],\n",
       "       [  8.]])"
      ]
     },
     "execution_count": 5,
     "metadata": {},
     "output_type": "execute_result"
    }
   ],
   "source": [
    "r = A_inv @ B\n",
    "r"
   ]
  },
  {
   "cell_type": "code",
   "execution_count": 7,
   "metadata": {},
   "outputs": [
    {
     "name": "stdout",
     "output_type": "stream",
     "text": [
      "True\n"
     ]
    },
    {
     "data": {
      "text/plain": [
       "array([[20.],\n",
       "       [18.]])"
      ]
     },
     "execution_count": 7,
     "metadata": {},
     "output_type": "execute_result"
    }
   ],
   "source": [
    "B_1 = A @ r\n",
    "np.array_equal(B_1, B)\n",
    "print(np.array_equal(B_1, B))\n",
    "B_1\n"
   ]
  },
  {
   "cell_type": "code",
   "execution_count": 13,
   "metadata": {},
   "outputs": [
    {
     "name": "stdout",
     "output_type": "stream",
     "text": [
      "The answer is: [[-10.]\n",
      " [  8.]]\n"
     ]
    }
   ],
   "source": [
    "#using np.linalg.solve()\n",
    "\n",
    "Solver = np.linalg.solve(A,B)\n",
    "print(\"The answer is:\", Solver)"
   ]
  }
 ],
 "metadata": {
  "kernelspec": {
   "display_name": "Python 3",
   "language": "python",
   "name": "python3"
  },
  "language_info": {
   "codemirror_mode": {
    "name": "ipython",
    "version": 3
   },
   "file_extension": ".py",
   "mimetype": "text/x-python",
   "name": "python",
   "nbconvert_exporter": "python",
   "pygments_lexer": "ipython3",
   "version": "3.8.3"
  }
 },
 "nbformat": 4,
 "nbformat_minor": 4
}
